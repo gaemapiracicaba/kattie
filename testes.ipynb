{
 "cells": [
  {
   "cell_type": "code",
   "execution_count": 4,
   "metadata": {},
   "outputs": [
    {
     "data": {
      "text/plain": [
       "{'Pimentel': {'nome_completo': 'José Eduardo de Souza Pimentel',\n",
       "  'e_mail': 'email1@email.br',\n",
       "  'termos_interesse': ['Piracicaba', 'Recomendação', 'Resolução', 'Aviso']},\n",
       " 'Ivan': {'nome_completo': 'Ivan Carneiro Castanheiro',\n",
       "  'e_mail': 'email2@email.br',\n",
       "  'termos_interesse': ['Americana', 'Gaema', 'Resolução', 'Aviso']}}"
      ]
     },
     "execution_count": 4,
     "metadata": {},
     "output_type": "execute_result"
    }
   ],
   "source": [
    "from kattie.data import pesquisa\n",
    "\n",
    "\n",
    "pesquisa"
   ]
  },
  {
   "cell_type": "code",
   "execution_count": null,
   "metadata": {},
   "outputs": [],
   "source": []
  }
 ],
 "metadata": {
  "kernelspec": {
   "display_name": "Python 3.10.4 64-bit",
   "language": "python",
   "name": "python3"
  },
  "language_info": {
   "codemirror_mode": {
    "name": "ipython",
    "version": 3
   },
   "file_extension": ".py",
   "mimetype": "text/x-python",
   "name": "python",
   "nbconvert_exporter": "python",
   "pygments_lexer": "ipython3",
   "version": "3.10.4"
  },
  "orig_nbformat": 4,
  "vscode": {
   "interpreter": {
    "hash": "949777d72b0d2535278d3dc13498b2535136f6dfe0678499012e853ee9abcab1"
   }
  }
 },
 "nbformat": 4,
 "nbformat_minor": 2
}
